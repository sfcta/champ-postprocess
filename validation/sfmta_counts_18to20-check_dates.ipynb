{
 "cells": [
  {
   "cell_type": "code",
   "execution_count": 1,
   "metadata": {},
   "outputs": [],
   "source": [
    "from datetime import datetime, time\n",
    "from pathlib import Path\n",
    "\n",
    "import matplotlib.pyplot as plt\n",
    "import pandas as pd\n",
    "import seaborn as sns\n",
    "\n",
    "from sfmta_counts_18to20 import (\n",
    "    get_counts_totals,\n",
    "    load_counts_sheet,\n",
    "    parse_filename,\n",
    ")"
   ]
  },
  {
   "cell_type": "code",
   "execution_count": 2,
   "metadata": {},
   "outputs": [],
   "source": [
    "sfmta_counts_dir = r\"Q:\\Data\\Observed\\Streets\\Counts\\PreCountDracula\\2018-2020\\OneDrive_2023-05-15\\2018-Feb 2020\""
   ]
  },
  {
   "cell_type": "code",
   "execution_count": 3,
   "metadata": {},
   "outputs": [
    {
     "name": "stdout",
     "output_type": "stream",
     "text": [
      "can't parse filename: 20180822_Deliverable_Casey Hildreth_20_FULTON RD_EB_38TH_39TH.xlsx\n",
      "can't parse filename: 20180822_Deliverable_Casey Hildreth_21_FULTON RD_WB_15TH_16TH.xlsx\n",
      "can't parse filename: BAYSHORE BLVD_JERROLD AVE_AM_PM.xlsx\n",
      "can't parse filename: FOLSOM ST_8TH ST_AM_PM.xlsx\n",
      "can't parse filename: GUERRERO ST_LAGUNA ST_MARKET ST_AM_PM.xlsx\n",
      "can't parse filename: LAGUNA ST_NB_SB_HAYES_LINDEN (2).xlsx\n",
      "can't parse filename: LAGUNA ST_NB_SB_HAYES_LINDEN (3).xlsx\n",
      "can't parse filename: SCOTT ST_EB_WB_ELLIS_O'FARRELL.xlsx\n",
      "can't parse filename: THEEMBARCADERO_TOWNSEND ST_AM_PM.xlsx\n",
      "can't parse filename: VALENCIA ST_22ND ST_AM_PM.xlsx\n"
     ]
    }
   ],
   "source": [
    "filename_parse_skipped = []\n",
    "dates = []\n",
    "\n",
    "for p in Path(sfmta_counts_dir).glob(\"*.xls*\"):\n",
    "    # without maybe monads, `continue` is cleaner than nested if-else/try-except\n",
    "    parsed_filename = parse_filename(p.name)\n",
    "    if not parsed_filename:  # if None\n",
    "        filename_parse_skipped.append(p.name)\n",
    "        print(\"can't parse filename:\", p.name)\n",
    "        continue\n",
    "    _, _, directions, _, _ = parsed_filename\n",
    "\n",
    "    for direction in directions:\n",
    "        count_totals = get_counts_totals(load_counts_sheet(\n",
    "            p.name, direction, sfmta_counts_dir=sfmta_counts_dir\n",
    "        ))\n",
    "        dates.extend(set(count_totals.index.date))\n",
    "# have to convert date back to datetime first\n",
    "dates = pd.Series((datetime.combine(d, time.min) for d in dates))"
   ]
  },
  {
   "cell_type": "code",
   "execution_count": 4,
   "metadata": {},
   "outputs": [
    {
     "data": {
      "image/png": "[encoded data removed]",
      "text/plain": [
       "<Figure size 640x480 with 1 Axes>"
      ]
     },
     "metadata": {},
     "output_type": "display_data"
    }
   ],
   "source": [
    "sns.histplot(dates.dt.dayofweek, discrete=True)\n",
    "plt.show()"
   ]
  },
  {
   "attachments": {},
   "cell_type": "markdown",
   "metadata": {},
   "source": [
    "So all data was collected on Tue/Wed/Thu"
   ]
  }
 ],
 "metadata": {
  "kernelspec": {
   "display_name": "py3.11",
   "language": "python",
   "name": "python3"
  },
  "language_info": {
   "codemirror_mode": {
    "name": "ipython",
    "version": 3
   },
   "file_extension": ".py",
   "mimetype": "text/x-python",
   "name": "python",
   "nbconvert_exporter": "python",
   "pygments_lexer": "ipython3",
   "version": "3.11.3"
  },
  "orig_nbformat": 4
 },
 "nbformat": 4,
 "nbformat_minor": 2
}
