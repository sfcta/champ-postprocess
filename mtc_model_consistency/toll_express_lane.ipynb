{
 "cells": [
  {
   "cell_type": "code",
   "execution_count": null,
   "metadata": {},
   "outputs": [],
   "source": [
    "import polars as pl"
   ]
  },
  {
   "cell_type": "code",
   "execution_count": null,
   "metadata": {},
   "outputs": [],
   "source": [
    "convert_hov2hot_filepath = r\"Y:\\networks\\projects\\@regional_background\\MTC_Committed_Exp_Lanes\\convert_hov2hot\\mod.dat\""
   ]
  },
  {
   "cell_type": "code",
   "execution_count": null,
   "metadata": {},
   "outputs": [],
   "source": [
    "convert_hov2hot_df = pl.read_csv(convert_hov2hot_filepath)"
   ]
  },
  {
   "cell_type": "code",
   "execution_count": null,
   "metadata": {},
   "outputs": [],
   "source": [
    "tolled_categories = [\n",
    "    \"TOLLAM_DA\",\n",
    "    \"TOLLAM_SR2\",\n",
    "    \"TOLLMD_DA\",\n",
    "    \"TOLLMD_SR2\",\n",
    "    \"TOLLPM_DA\",\n",
    "    \"TOLLPM_SR2\",\n",
    "    \"TOLLEV_DA\",\n",
    "    \"TOLLEV_SR2\",\n",
    "]"
   ]
  },
  {
   "cell_type": "code",
   "execution_count": null,
   "metadata": {},
   "outputs": [],
   "source": [
    "convert_hov2hot_df.select(tolled_categories).describe()"
   ]
  },
  {
   "cell_type": "code",
   "execution_count": null,
   "metadata": {},
   "outputs": [],
   "source": [
    "# filter for links that actually has a toll (in the AM peak)\n",
    "convert_hov2hot_df.select(tolled_categories).filter(pl.col(\"TOLLAM_DA\") > 0).describe()"
   ]
  }
 ],
 "metadata": {
  "kernelspec": {
   "display_name": "py3.11",
   "language": "python",
   "name": "python3"
  },
  "language_info": {
   "codemirror_mode": {
    "name": "ipython",
    "version": 3
   },
   "file_extension": ".py",
   "mimetype": "text/x-python",
   "name": "python",
   "nbconvert_exporter": "python",
   "pygments_lexer": "ipython3",
   "version": "3.11.3"
  }
 },
 "nbformat": 4,
 "nbformat_minor": 2
}
