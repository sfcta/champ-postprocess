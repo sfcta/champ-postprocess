{
 "cells": [
  {
   "cell_type": "code",
   "execution_count": null,
   "metadata": {},
   "outputs": [],
   "source": [
    "import tomllib\n",
    "from pathlib import Path\n",
    "\n",
    "import geopandas as gpd\n",
    "import pandas as pd\n",
    "import polars as pl\n",
    "\n",
    "# For PBA 2050: see p77 in\n",
    "# https://www.planbayarea.org/sites/default/files/documents/Plan_Bay_Area_2050_Forecasting_Modeling_Report_October_2021.pdf"
   ]
  },
  {
   "cell_type": "code",
   "execution_count": null,
   "metadata": {},
   "outputs": [],
   "source": [
    "with open(\"configs/2023.toml\", \"rb\") as f:\n",
    "    config = tomllib.load(f)\n",
    "\n",
    "express_lanes_dir = Path(\n",
    "    r\"Y:\\networks\\projects\\@regional_background\\MTC_Committed_Exp_Lanes\"\n",
    ")\n",
    "convert_hov2hot_filepath = express_lanes_dir / \"convert_hov2hot\" / \"mod.dat\""
   ]
  },
  {
   "cell_type": "code",
   "execution_count": null,
   "metadata": {},
   "outputs": [],
   "source": [
    "tolled_categories = [\n",
    "    \"TOLLAM_DA\",\n",
    "    \"TOLLAM_SR2\",\n",
    "    \"TOLLMD_DA\",\n",
    "    \"TOLLMD_SR2\",\n",
    "    \"TOLLPM_DA\",\n",
    "    \"TOLLPM_SR2\",\n",
    "    \"TOLLEV_DA\",\n",
    "    \"TOLLEV_SR2\",\n",
    "]\n",
    "\n",
    "cpi1989 = 126.4\n",
    "cpi2000 = 180.2\n",
    "cpi2010 = 227.47"
   ]
  },
  {
   "cell_type": "code",
   "execution_count": null,
   "metadata": {},
   "outputs": [],
   "source": [
    "network = gpd.read_file(\n",
    "    Path(config[\"champ\"][\"forecast\"][\"model_run_dir\"]) / \"FREEFLOW.shp\"\n",
    ")\n",
    "# network = pl.from_pandas(network.drop(columns=\"geometry\"))"
   ]
  },
  {
   "cell_type": "code",
   "execution_count": null,
   "metadata": {},
   "outputs": [],
   "source": [
    "convert_hov2hot_df = pd.read_csv(convert_hov2hot_filepath)"
   ]
  },
  {
   "cell_type": "code",
   "execution_count": null,
   "metadata": {},
   "outputs": [],
   "source": [
    "convert_hov2hot_df = network.drop(columns=tolled_categories).merge(\n",
    "    convert_hov2hot_df, on=[\"A\", \"B\"], how=\"right\"\n",
    ")"
   ]
  },
  {
   "cell_type": "code",
   "execution_count": null,
   "metadata": {},
   "outputs": [],
   "source": [
    "convert_hov2hot_df.plot(column=\"USE_y\", categorical=True, legend=True)"
   ]
  },
  {
   "cell_type": "code",
   "execution_count": null,
   "metadata": {},
   "outputs": [],
   "source": [
    "sr237wb = convert_hov2hot_df[convert_hov2hot_df[\"STREETNAME\"] == 'SR 237 WB']\n",
    "sr237wb[tolled_categories].describe()"
   ]
  },
  {
   "cell_type": "code",
   "execution_count": null,
   "metadata": {},
   "outputs": [],
   "source": [
    "sr237wb[tolled_categories].div(sr237wb[\"DISTANCE\"], axis=0).describe()"
   ]
  },
  {
   "cell_type": "code",
   "execution_count": null,
   "metadata": {},
   "outputs": [],
   "source": [
    "print(\"SR-37 Westbound Per-LINK-SEGMENT Roadway Toll Cost\")\n",
    "print(\"in 2000 dollars:\")\n",
    "print(sr237wb[[\"TOLLAM_DA\", \"TOLLAM_SR2\"]].mean() / cpi1989 * cpi2000)\n",
    "print(\"in 2010 dollars:\")\n",
    "print(sr237wb[[\"TOLLAM_DA\", \"TOLLAM_SR2\"]].mean() / cpi1989 * cpi2010)"
   ]
  },
  {
   "cell_type": "code",
   "execution_count": null,
   "metadata": {},
   "outputs": [],
   "source": [
    "print(\"SR-37 Westbound Per-MILE Roadway Toll Cost\")\n",
    "print(\"in 2000 dollars:\")\n",
    "print(sr237wb[[\"TOLLAM_DA\", \"TOLLAM_SR2\"]].div(sr237wb[\"DISTANCE\"], axis=0).mean() / cpi1989 * cpi2000)\n",
    "print(\"in 2010 dollars:\")\n",
    "print(sr237wb[[\"TOLLAM_DA\", \"TOLLAM_SR2\"]].div(sr237wb[\"DISTANCE\"], axis=0).mean() / cpi1989 * cpi2010)\n",
    "# these numbers are close enough to the MTC unmbers that I think the\n",
    "# discrepancies are just from slightly differently coded link lengths"
   ]
  },
  {
   "cell_type": "code",
   "execution_count": null,
   "metadata": {},
   "outputs": [],
   "source": [
    "# the areas where use == 4 corresponds to the Dynamic Tolling portions on MTC's map\n",
    "dynamic_tolling = convert_hov2hot_df[(convert_hov2hot_df[\"USE_y\"] == 4) & (convert_hov2hot_df[\"STREETNAME\"] != 'SR 237 WB')]\n",
    "dynamic_tolling[tolled_categories].div(dynamic_tolling[\"DISTANCE\"], axis=0).describe()"
   ]
  },
  {
   "cell_type": "code",
   "execution_count": null,
   "metadata": {},
   "outputs": [],
   "source": [
    "print(\"dynamic tolling max (for both DA and SR2) = 100 in 1989 dollars\")\n",
    "print(\"max in 2000 dollars:\", 1 / cpi1989 * cpi2000)\n",
    "print(\"max in 2010 dollars:\", 1 / cpi1989 * cpi2010)\n",
    "print()\n",
    "print(\"dynamic tolling min (DA) = 2.031250 in 1989 dollars\")  # ignoring the weird one out for EV\n",
    "print(\"min (DA) in 2000 dollars:\", 2.031250 / cpi1989 * cpi2000)\n",
    "print(\"min (DA) in 2010 dollars:\", 2.031250 / cpi1989 * cpi2010)\n",
    "print()\n",
    "print(\"dynamic tolling min (SR2) = 0.375940 in 1989 dollars\")  # ignoring the weird one out for EV\n",
    "print(\"min (DA) in 2000 dollars:\", 0.375940 / cpi1989 * cpi2000)\n",
    "print(\"min (DA) in 2010 dollars:\", 0.375940 / cpi1989 * cpi2010)"
   ]
  },
  {
   "cell_type": "code",
   "execution_count": null,
   "metadata": {},
   "outputs": [],
   "source": [
    "# the areas where use == 1 corresponds to the Strategy T5 portions on MTC's map\n",
    "# there's NO toll implemented on these\n",
    "convert_hov2hot_df[(convert_hov2hot_df[\"USE_y\"] == 1)][\n",
    "    tolled_categories\n",
    "].describe()"
   ]
  }
 ],
 "metadata": {
  "kernelspec": {
   "display_name": "py3.11",
   "language": "python",
   "name": "python3"
  },
  "language_info": {
   "codemirror_mode": {
    "name": "ipython",
    "version": 3
   },
   "file_extension": ".py",
   "mimetype": "text/x-python",
   "name": "python",
   "nbconvert_exporter": "python",
   "pygments_lexer": "ipython3",
   "version": "3.11.3"
  }
 },
 "nbformat": 4,
 "nbformat_minor": 2
}
