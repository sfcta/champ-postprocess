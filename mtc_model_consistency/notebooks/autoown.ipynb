{
 "cells": [
  {
   "cell_type": "code",
   "execution_count": 1,
   "metadata": {},
   "outputs": [],
   "source": [
    "import os\n",
    "import pandas as pd\n",
    "#import geopandas as gpd"
   ]
  },
  {
   "cell_type": "code",
   "execution_count": 2,
   "metadata": {},
   "outputs": [],
   "source": [
    "MODEL_RUN_DIR = r'X:\\Projects\\ConnectSF\\2040_Baseline_v2'\n",
    "OUTDIR = r'Q:\\MTC\\Model\\ConsistencyReports\\2019\\Analysis\\Data\\7.AutoOwnership'"
   ]
  },
  {
   "cell_type": "code",
   "execution_count": 3,
   "metadata": {
    "scrolled": true
   },
   "outputs": [],
   "source": [
    "df = pd.read_csv(os.path.join(MODEL_RUN_DIR,'daysim','abm_output1','_household_2.dat'), sep=r'\\s+')\n",
    "taz = pd.read_csv(os.path.join(MODEL_RUN_DIR,'tazdata.csv'))"
   ]
  },
  {
   "cell_type": "code",
   "execution_count": 4,
   "metadata": {},
   "outputs": [],
   "source": [
    "df = pd.merge(df, taz.loc[:,['SFTAZ','COUNTY','SUPERDST']],\n",
    "              left_on='hhtaz',right_on='SFTAZ')"
   ]
  },
  {
   "cell_type": "code",
   "execution_count": 6,
   "metadata": {},
   "outputs": [],
   "source": [
    "df.pivot_table(index=['COUNTY','SUPERDST'], columns='hhvehs', aggfunc='size').to_csv(os.path.join(OUTDIR,'autoown_ConnectSF_2040_Baseline_v2.csv'))"
   ]
  }
 ],
 "metadata": {
  "kernelspec": {
   "display_name": "Python 3 (ipykernel)",
   "language": "python",
   "name": "python3"
  },
  "language_info": {
   "codemirror_mode": {
    "name": "ipython",
    "version": 3
   },
   "file_extension": ".py",
   "mimetype": "text/x-python",
   "name": "python",
   "nbconvert_exporter": "python",
   "pygments_lexer": "ipython3",
   "version": "3.9.18"
  }
 },
 "nbformat": 4,
 "nbformat_minor": 2
}
