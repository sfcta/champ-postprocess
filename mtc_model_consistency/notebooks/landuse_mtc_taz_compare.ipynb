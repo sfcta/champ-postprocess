{
 "cells": [
  {
   "cell_type": "code",
   "execution_count": null,
   "metadata": {},
   "outputs": [],
   "source": [
    "import os\n",
    "import pandas as pd\n",
    "import geopandas as gpd"
   ]
  },
  {
   "cell_type": "code",
   "execution_count": null,
   "metadata": {},
   "outputs": [],
   "source": [
    "TAZ = r'Q:\\GIS\\Model\\TAZ\\MTC_TAZ\\taz1454.shp'\n",
    "OUTDIR = r'Q:\\MTC\\Model\\ConsistencyReports\\2019\\Analysis\\Data\\2.LandUse'"
   ]
  },
  {
   "cell_type": "code",
   "execution_count": null,
   "metadata": {},
   "outputs": [],
   "source": [
    "taz = gpd.read_file(TAZ)"
   ]
  },
  {
   "cell_type": "code",
   "execution_count": null,
   "metadata": {},
   "outputs": [],
   "source": [
    "mtc2015 = pd.read_csv(r'Q:\\Model Landuse\\PBA2040 aka p2017\\PBA 2040 Final Projections (7224c)\\run7224c_taz_summaries_2015.csv')\n",
    "mtc2040 = pd.read_csv(r'Q:\\Model Landuse\\PBA2040 aka p2017\\PBA 2040 Final Projections (7224c)\\run7224c_taz_summaries_2040.csv')"
   ]
  },
  {
   "cell_type": "code",
   "execution_count": null,
   "metadata": {},
   "outputs": [],
   "source": [
    "sf2015 = pd.read_csv(r'Y:\\champ\\landuse\\p2017\\pba2040\\lua_20181121\\2015\\runinputs_champ5parkingupdate\\tazdata.csv')\n",
    "sf2040 = pd.read_csv(r'Y:\\champ\\landuse\\p2017\\ConnectSF\\201808\\2040\\runinputs_champ5parkingupdate\\tazdata.csv')"
   ]
  },
  {
   "cell_type": "code",
   "execution_count": null,
   "metadata": {},
   "outputs": [],
   "source": [
    "sf2040_2 = sf2040.groupby('MTCTAZ').agg({'HHLDS':'sum','POP':'sum','TOTALEMP':'sum'}).reset_index()"
   ]
  },
  {
   "cell_type": "code",
   "execution_count": null,
   "metadata": {},
   "outputs": [],
   "source": [
    "diff2040 = pd.merge(mtc2040.loc[:,['ZONE','TOTHH','TOTEMP']].rename(columns={'ZONE':'MTCTAZ','TOTHH':'MTCHH','TOTEMP':'MTCEMP'}), \n",
    "                    sf2040_2.loc[:,['MTCTAZ','HHLDS','TOTALEMP']].rename(columns={'HHLDS':'SFHH','TOTALEMP':'SFEMP'}),\n",
    "                    on=['MTCTAZ'])"
   ]
  },
  {
   "cell_type": "code",
   "execution_count": null,
   "metadata": {
    "scrolled": true
   },
   "outputs": [],
   "source": [
    "diff2040['HHDIFF'] = diff2040['SFHH'] - diff2040['MTCHH']\n",
    "diff2040['EMPDIFF'] = diff2040['SFEMP'] - diff2040['MTCEMP']"
   ]
  },
  {
   "cell_type": "code",
   "execution_count": null,
   "metadata": {},
   "outputs": [],
   "source": [
    "taz.head()"
   ]
  },
  {
   "cell_type": "code",
   "execution_count": null,
   "metadata": {},
   "outputs": [],
   "source": [
    "diff2040 = pd.merge(taz.loc[:,['TAZ1454','geometry']].rename(columns={'TAZ1454':'MTCTAZ'}), \n",
    "                    diff2040)"
   ]
  },
  {
   "cell_type": "code",
   "execution_count": null,
   "metadata": {},
   "outputs": [],
   "source": [
    "diff2040.to_file(os.path.join(OUTDIR,'champ_net_mtc.shp'))"
   ]
  }
 ],
 "metadata": {
  "kernelspec": {
   "display_name": "Python 3 (ipykernel)",
   "language": "python",
   "name": "python3"
  },
  "language_info": {
   "codemirror_mode": {
    "name": "ipython",
    "version": 3
   },
   "file_extension": ".py",
   "mimetype": "text/x-python",
   "name": "python",
   "nbconvert_exporter": "python",
   "pygments_lexer": "ipython3",
   "version": "3.9.18"
  }
 },
 "nbformat": 4,
 "nbformat_minor": 2
}
