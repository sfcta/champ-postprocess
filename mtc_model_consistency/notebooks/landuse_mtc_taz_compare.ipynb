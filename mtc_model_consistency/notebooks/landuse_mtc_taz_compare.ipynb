{
 "cells": [
  {
   "cell_type": "code",
   "execution_count": null,
   "metadata": {},
   "outputs": [],
   "source": [
    "# For CMP 2023, Drew compiled the land use comparison tables, so this script was\n",
    "# not used. The numbers were adjusted by a factor to better match MTC's numbers"
   ]
  },
  {
   "cell_type": "code",
   "execution_count": 1,
   "metadata": {},
   "outputs": [],
   "source": [
    "import pandas as pd\n",
    "from pathlib import Path"
   ]
  },
  {
   "cell_type": "code",
   "execution_count": 2,
   "metadata": {},
   "outputs": [],
   "source": [
    "out_dir = r\"Q:\\MTC\\Model\\ConsistencyReports\\2023\\Analysis\\Data\"\n",
    "base_year = 2015\n",
    "forecast_year = 2050\n",
    "\n",
    "out_dir = Path(out_dir) / \"2.Land Use\""
   ]
  },
  {
   "cell_type": "code",
   "execution_count": 4,
   "metadata": {},
   "outputs": [],
   "source": [
    "mtc_base = pd.read_excel(\n",
    "    r\"Q:\\Model Landuse\\PBA2050\\20210310\\PBA50_FinalBlueprintLandUse_TAZdata.xlsx\",\n",
    "    str(base_year),\n",
    ")\n",
    "mtc_forecast = pd.read_excel(\n",
    "    r\"Q:\\Model Landuse\\PBA2050\\20210310\\PBA50_FinalBlueprintLandUse_TAZdata.xlsx\",\n",
    "    str(forecast_year),\n",
    ")"
   ]
  },
  {
   "cell_type": "code",
   "execution_count": 13,
   "metadata": {},
   "outputs": [],
   "source": [
    "sf_base = pd.read_csv(\n",
    "    r\"Y:\\champ\\landuse\\p2021\\pba50\\2015\\2-RunInputsChamp5Parking\\tazdata.csv\"\n",
    ")\n",
    "sf_base = pd.merge(\n",
    "    sf_base.drop(columns=\"DISTRICT\"),\n",
    "    mtc_base[[\"ZONE\", \"DISTRICT\"]].rename(columns={\"ZONE\": \"MTCTAZ\"}),\n",
    ")\n",
    "sf_forecast = pd.read_csv(\n",
    "    r\"Y:\\champ\\landuse\\p2021\\pba50\\2050\\2-RunInputsChamp5Parking\\tazdata.csv\"\n",
    ")\n",
    "sf_forecast = pd.merge(\n",
    "    sf_forecast.drop(columns=\"DISTRICT\"),\n",
    "    mtc_base[[\"ZONE\", \"DISTRICT\"]].rename(columns={\"ZONE\": \"MTCTAZ\"}),\n",
    ")"
   ]
  },
  {
   "cell_type": "code",
   "execution_count": 7,
   "metadata": {},
   "outputs": [],
   "source": [
    "sf_base[\"SD\"] = sf_base[\"DISTRICT\"].map(lambda x: x if x > 4 else 1)\n",
    "sf_forecast[\"SD\"] = sf_forecast[\"DISTRICT\"].map(lambda x: x if x > 4 else 1)"
   ]
  },
  {
   "cell_type": "code",
   "execution_count": 12,
   "metadata": {},
   "outputs": [],
   "source": [
    "def taz_compare_champ_mtc(sf_taz_df, geog, out_dir, out_filename):\n",
    "    if geog not in {\"COUNTY\", \"SD\"}:\n",
    "        raise 'geog should be \"COUNTY\" or \"SD\".'\n",
    "    (\n",
    "        sf_taz_df.groupby(geog)\n",
    "        .agg(\n",
    "            {\n",
    "                \"POP\": \"sum\",\n",
    "                \"HHLDS\": \"sum\",\n",
    "                \"GQPOP\": \"sum\",\n",
    "                \"TOTALEMP\": \"sum\",\n",
    "                \"EMPRES\": \"sum\",\n",
    "            }\n",
    "        )\n",
    "        .rename(\n",
    "            columns={\n",
    "                \"POP\": \"population\",\n",
    "                \"HHLDS\": \"Households\",\n",
    "                \"GQPOP\": \"Non-Institutional Group Quarters Population\",\n",
    "                \"TOTALEMP\": \"Jobs\",\n",
    "                \"EMPRES\": \"Employed Residents\",\n",
    "            }\n",
    "        )\n",
    "    ).to_csv(Path(out_dir) / out_filename)"
   ]
  },
  {
   "cell_type": "code",
   "execution_count": null,
   "metadata": {},
   "outputs": [],
   "source": [
    "taz_compare_champ_mtc(\n",
    "    sf_base,\n",
    "    \"COUNTY\",\n",
    "    out_dir,\n",
    "    \"Table B.1 Base County Demographics.csv\",\n",
    ")\n",
    "taz_compare_champ_mtc(\n",
    "    sf_base,\n",
    "    \"SD\",\n",
    "    out_dir,\n",
    "    \"Table B.2 Base Superdistrict Demographics.csv\",\n",
    ")\n",
    "taz_compare_champ_mtc(\n",
    "    sf_forecast,\n",
    "    \"COUNTY\",\n",
    "    out_dir,\n",
    "    \"Table C.1 Forecast County Demographics.csv\",\n",
    ")\n",
    "taz_compare_champ_mtc(\n",
    "    sf_forecast,\n",
    "    \"SD\",\n",
    "    out_dir,\n",
    "    \"Table C.2 Forecast Superdistrict Demographics.csv\",\n",
    ")"
   ]
  }
 ],
 "metadata": {
  "kernelspec": {
   "display_name": "Python 3",
   "language": "python",
   "name": "python3"
  },
  "language_info": {
   "codemirror_mode": {
    "name": "ipython",
    "version": 3
   },
   "file_extension": ".py",
   "mimetype": "text/x-python",
   "name": "python",
   "nbconvert_exporter": "python",
   "pygments_lexer": "ipython3",
   "version": "3.11.3"
  }
 },
 "nbformat": 4,
 "nbformat_minor": 2
}
