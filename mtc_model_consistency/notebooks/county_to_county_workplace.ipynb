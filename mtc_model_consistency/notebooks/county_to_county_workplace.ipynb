{
 "cells": [
  {
   "cell_type": "code",
   "execution_count": 1,
   "metadata": {},
   "outputs": [],
   "source": [
    "import sys, os\n",
    "import pandas as pd\n",
    "sys.path.insert(0,r'Y:\\champ\\util\\pythonlib-migration\\master_versions')\n",
    "import Districts"
   ]
  },
  {
   "cell_type": "code",
   "execution_count": 2,
   "metadata": {},
   "outputs": [],
   "source": [
    "MODEL_RUN_DIR = r'X:\\Projects\\ConnectSF\\2040_Baseline_v2'\n",
    "OUTDIR = r'Q:\\MTC\\Model\\ConsistencyReports\\2019\\Analysis\\Data'\n",
    "DIST3 = os.path.join(MODEL_RUN_DIR,'DISTSIMPLE3.eqv')"
   ]
  },
  {
   "cell_type": "code",
   "execution_count": 4,
   "metadata": {},
   "outputs": [],
   "source": [
    "hh = pd.read_csv(os.path.join(MODEL_RUN_DIR,'daysim','abm_output1','_household_2.dat'), sep=r'\\s+')\n",
    "pers = pd.read_csv(os.path.join(MODEL_RUN_DIR,'daysim','abm_output1','_person_2.dat'), sep=r'\\s+')\n",
    "taz = pd.read_csv(os.path.join(MODEL_RUN_DIR,'tazdata.csv'))"
   ]
  },
  {
   "cell_type": "code",
   "execution_count": 5,
   "metadata": {},
   "outputs": [],
   "source": [
    "hhp = pd.merge(hh, pers)"
   ]
  },
  {
   "cell_type": "code",
   "execution_count": 6,
   "metadata": {},
   "outputs": [],
   "source": [
    "hhp = pd.merge(hhp, \n",
    "               taz.loc[:,['SFTAZ','COUNTY']].rename(columns={'COUNTY':'home_county'}), \n",
    "               left_on=['hhtaz'], right_on=['SFTAZ'])\n",
    "hhp = pd.merge(hhp,\n",
    "               taz.loc[:,['SFTAZ','COUNTY']].rename(columns={'COUNTY':'work_county'}),\n",
    "               left_on=['pwtaz'], right_on=['SFTAZ'])"
   ]
  },
  {
   "cell_type": "code",
   "execution_count": 7,
   "metadata": {},
   "outputs": [],
   "source": [
    "hhp.pivot_table(index='home_county', columns='work_county',aggfunc='size').to_csv(os.path.join(OUTDIR,'10.CountyToCounty','county_to_county_work.csv'))"
   ]
  }
 ],
 "metadata": {
  "kernelspec": {
   "display_name": "Python 3 (ipykernel)",
   "language": "python",
   "name": "python3"
  },
  "language_info": {
   "codemirror_mode": {
    "name": "ipython",
    "version": 3
   },
   "file_extension": ".py",
   "mimetype": "text/x-python",
   "name": "python",
   "nbconvert_exporter": "python",
   "pygments_lexer": "ipython3",
   "version": "3.9.18"
  }
 },
 "nbformat": 4,
 "nbformat_minor": 2
}
