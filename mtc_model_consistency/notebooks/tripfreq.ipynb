{
 "cells": [
  {
   "cell_type": "code",
   "execution_count": null,
   "metadata": {},
   "outputs": [],
   "source": [
    "import sys, os\n",
    "import pandas as pd"
   ]
  },
  {
   "cell_type": "code",
   "execution_count": null,
   "metadata": {},
   "outputs": [],
   "source": [
    "sys.path.insert(0,r'Y:\\champ\\util\\pythonlib-migration\\master_versions')\n",
    "import Districts"
   ]
  },
  {
   "cell_type": "code",
   "execution_count": null,
   "metadata": {},
   "outputs": [],
   "source": [
    "MODEL_RUN_DIR = r'X:\\Projects\\ConnectSF\\2040_Baseline_v2'\n",
    "OUTDIR = r'Q:\\MTC\\Model\\ConsistencyReports\\2019\\Analysis\\Data'\n",
    "TRIPFREQ = r'8.TripTourFrequency'\n",
    "TRIPLEN = r'9.TripLength'\n",
    "TRIPMC = r'11.TripModeChoice'\n",
    "DIST3 = os.path.join(MODEL_RUN_DIR,'DISTSIMPLE3.eqv')"
   ]
  },
  {
   "cell_type": "code",
   "execution_count": null,
   "metadata": {},
   "outputs": [],
   "source": [
    "tazToDist, distToTaz, distToName = Districts.readDistrictsEqv(DIST3)"
   ]
  },
  {
   "cell_type": "code",
   "execution_count": null,
   "metadata": {},
   "outputs": [],
   "source": [
    "# source: Daysim2.1 Users Guide.xlsx\n",
    "modes = {0:'none',\n",
    "         1:'walk',\n",
    "         2:'bike',\n",
    "         3:'sov',\n",
    "         4:'hov 2',\n",
    "         5:'hov 3',\n",
    "         6:'walk to transit',\n",
    "         7:'park and ride',\n",
    "         8:'school bus',\n",
    "         9:'other',\n",
    "         }\n",
    "purposes = {0:'none/home',\n",
    "            1:'work',\n",
    "            2:'school',\n",
    "            3:'escort',\n",
    "            4:'pers.bus',\n",
    "            5:'shop',\n",
    "            6:'meal',\n",
    "            7:'social',\n",
    "            8:'recreational', #(currently combined with social)\n",
    "            9:'medical', #(currently combined with pers.bus.)\n",
    "            10:'change mode inserted purpose',\n",
    "            # extra:\n",
    "            11:'work-based',\n",
    "            12:'college/university',\n",
    "            13:'other school'\n",
    "            }\n",
    "\n",
    "person_type = {1:'Full time worker',\n",
    "               2:'Part time worker',\n",
    "               3:'Non working adult age 65+',\n",
    "               4:'Non working adult age<65',\n",
    "               5:'University student',\n",
    "               6:'High school student age 16+',\n",
    "               7:'Child age 5-15',\n",
    "               8:'Child age 0-4',\n",
    "              }"
   ]
  },
  {
   "cell_type": "code",
   "execution_count": null,
   "metadata": {},
   "outputs": [],
   "source": [
    "hh_cols = ['hhno','hhtaz']\n",
    "pers_cols = ['hhno','pno','pptyp']\n",
    "trip_cols = ['hhno','pno','tour','trip','mode','otaz','dtaz','dpurp','pathtype','travdist','id','tour_id']\n",
    "tour_cols = ['hhno','pno','tour','pdpurp','tmodetp','tpathtp','parent','subtrs','tdtaz','id']"
   ]
  },
  {
   "cell_type": "code",
   "execution_count": null,
   "metadata": {
    "scrolled": true
   },
   "outputs": [],
   "source": [
    "hh = pd.read_csv(os.path.join(MODEL_RUN_DIR,'daysim','abm_output1','_household_2.dat'), sep=r'\\s+')\n",
    "pers = pd.read_csv(os.path.join(MODEL_RUN_DIR,'daysim','abm_output1','_person_2.dat'), sep=r'\\s+')\n",
    "df = pd.merge(hh.loc[:,hh_cols], pers.loc[:,pers_cols], on=['hhno'])\n",
    "del(hh, pers)"
   ]
  },
  {
   "cell_type": "code",
   "execution_count": null,
   "metadata": {},
   "outputs": [],
   "source": [
    "tours = pd.read_csv(os.path.join(MODEL_RUN_DIR,'daysim','abm_output1','_tour_2.dat'), sep=r'\\s+')\n",
    "df = pd.merge(df, tours.loc[:,tour_cols], on=['hhno','pno'])\n",
    "parents = tours.loc[tours['subtrs'].gt(0)]\n",
    "parents.set_index(['hhno','pno','tour'], inplace=True)\n",
    "df.set_index(['hhno','pno','parent'], inplace=True)\n",
    "df['parent_purp'] = parents['pdpurp']\n",
    "df.reset_index(inplace=True)\n",
    "del(tours)"
   ]
  },
  {
   "cell_type": "code",
   "execution_count": null,
   "metadata": {},
   "outputs": [],
   "source": [
    "# work-based subtours\n",
    "df.loc[df['parent_purp'].eq(1), 'pdpurp'] = 11\n",
    "# school purpose by person type\n",
    "df.loc[df['pdpurp'].eq(2) & df['pptyp'].eq(5), 'pdpurp'] = 12\n",
    "df.loc[df['pdpurp'].eq(2) & df['pptyp'].isin([1,2,3,4]),'pdpurp'] = 13"
   ]
  },
  {
   "cell_type": "code",
   "execution_count": null,
   "metadata": {},
   "outputs": [],
   "source": [
    "trips = pd.read_csv(os.path.join(MODEL_RUN_DIR,'daysim','abm_output1','_trip_2.dat'), sep=r'\\s+')\n",
    "df = pd.merge(df, trips.loc[:,trip_cols], on=['hhno','pno','tour'])\n",
    "df['trip_mode'] = df['mode'].map(modes)\n",
    "del(trips)"
   ]
  },
  {
   "cell_type": "code",
   "execution_count": null,
   "metadata": {},
   "outputs": [],
   "source": [
    "df['district'] = df['hhtaz'].map(tazToDist)\n",
    "df['district_name'] = df['district'].map(distToName)"
   ]
  },
  {
   "cell_type": "code",
   "execution_count": null,
   "metadata": {},
   "outputs": [],
   "source": [
    "stats = (df\n",
    "         .groupby(['district_name','pdpurp'])\n",
    "         .agg({'tour':'size',\n",
    "               'travdist':'mean'})\n",
    "         .rename(columns={'tour':'trips',\n",
    "                  'travdist':'average_trip_distance'})\n",
    "         .reset_index()\n",
    "        )"
   ]
  },
  {
   "cell_type": "code",
   "execution_count": null,
   "metadata": {},
   "outputs": [],
   "source": [
    "tripfreq = stats.pivot(index='pdpurp', columns='district_name', values='trips')\n",
    "tripfreq['purpose'] = tripfreq.index.map(purposes)"
   ]
  },
  {
   "cell_type": "code",
   "execution_count": null,
   "metadata": {},
   "outputs": [],
   "source": [
    "(tripfreq\n",
    " .loc[:,['purpose','Downtown','Rest of San Francisco','Rest of Bay Area']]\n",
    " .to_csv(os.path.join(OUTDIR,TRIPFREQ,'tripfreq_ConnectSF_2040_Baseline.csv'))\n",
    ")"
   ]
  },
  {
   "cell_type": "code",
   "execution_count": null,
   "metadata": {},
   "outputs": [],
   "source": [
    "triplen = stats.pivot(index='pdpurp', columns='district_name', values='average_trip_distance')\n",
    "triplen2 = df.groupby('pdpurp').agg({'travdist':'mean'})\n",
    "triplen['Total'] = triplen2['travdist']\n",
    "triplen.loc['Total',:] = df.groupby('district_name').agg('travdist').mean()\n",
    "triplen.loc['Total','Total'] = df['travdist'].mean()\n",
    "triplen['purpose'] = triplen.index.map(purposes)"
   ]
  },
  {
   "cell_type": "code",
   "execution_count": null,
   "metadata": {},
   "outputs": [],
   "source": [
    "triplen"
   ]
  },
  {
   "cell_type": "code",
   "execution_count": null,
   "metadata": {},
   "outputs": [],
   "source": [
    "(triplen\n",
    " .loc[:,['purpose','Downtown','Rest of San Francisco','Rest of Bay Area','Total']]\n",
    " .to_csv(os.path.join(OUTDIR,TRIPLEN,'triplen_ConnectSF_2040_Baseline.csv'))\n",
    ")"
   ]
  },
  {
   "cell_type": "code",
   "execution_count": null,
   "metadata": {},
   "outputs": [],
   "source": [
    "df.groupby('tmodetp').size()"
   ]
  },
  {
   "cell_type": "code",
   "execution_count": null,
   "metadata": {},
   "outputs": [],
   "source": [
    "tripmc = df.pivot_table(index='pdpurp', columns=['mode','trip_mode'], aggfunc='size')\n",
    "tripmc['purpose'] = tripfreq.index.map(purposes)\n",
    "tripmc.to_csv(os.path.join(OUTDIR,TRIPMC,'tripmc_ConnectSF_2040_Baseline.csv'))"
   ]
  }
 ],
 "metadata": {
  "kernelspec": {
   "display_name": "Python 3 (ipykernel)",
   "language": "python",
   "name": "python3"
  },
  "language_info": {
   "codemirror_mode": {
    "name": "ipython",
    "version": 3
   },
   "file_extension": ".py",
   "mimetype": "text/x-python",
   "name": "python",
   "nbconvert_exporter": "python",
   "pygments_lexer": "ipython3",
   "version": "3.9.18"
  }
 },
 "nbformat": 4,
 "nbformat_minor": 2
}
