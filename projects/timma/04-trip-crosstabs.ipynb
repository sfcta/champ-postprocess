{
 "cells": [
  {
   "cell_type": "code",
   "execution_count": null,
   "metadata": {},
   "outputs": [],
   "source": [
    "from pathlib import Path\n",
    "\n",
    "import polars as pl\n",
    "\n",
    "from timma import crosstab_income_residency"
   ]
  },
  {
   "cell_type": "code",
   "execution_count": null,
   "metadata": {},
   "outputs": [],
   "source": [
    "dir = r\"X:\\Projects\\TIMMA\\Round7\\Round7_2040_weekday_ubi_currentandlowincomeresidents\"\n",
    "trips_joined_filename = \"TRIPMC1-simplified.parquet\"\n",
    "trips_joined_filepath = Path(dir, \"summaries\", trips_joined_filename)"
   ]
  },
  {
   "cell_type": "code",
   "execution_count": null,
   "metadata": {},
   "outputs": [],
   "source": [
    "trips = pl.read_parquet(trips_joined_filepath).with_columns(\n",
    "    # I don't want to deal with trying to order a Categorical right now\n",
    "    pl.col(\"income_quintile\").cast(pl.Utf8).cast(pl.Int8),\n",
    "    # casting to str from Categorical to allow is_in()\n",
    "    pl.col(\"trip_mode\").cast(pl.Utf8)\n",
    ")\n",
    "trips"
   ]
  },
  {
   "cell_type": "code",
   "execution_count": null,
   "metadata": {},
   "outputs": [],
   "source": [
    "from_ti_filter = (pl.col(\"origin\") == \"TI\")\n",
    "to_ti_filter = (pl.col(\"destination\") == \"TI\")\n",
    "ti_trips_inc_intra_ti_filter = from_ti_filter | to_ti_filter\n",
    "ti_trips_exc_intra_ti_filter = from_ti_filter ^ to_ti_filter  # XOR\n",
    "\n",
    "automobile_filter = pl.col(\"trip_mode\").is_in([\"auto-DA\", \"auto-SR2\", \"auto-SR3\"])\n",
    "transit_filter = (pl.col(\"trip_mode\") == \"transit\")\n",
    "\n",
    "daytime_filter = (1 < pl.col(\"mOdt\")) & (pl.col(\"mOdt\") < 5)"
   ]
  },
  {
   "cell_type": "code",
   "execution_count": null,
   "metadata": {},
   "outputs": [],
   "source": [
    "crosstab_income_residency(trips.filter(to_ti_filter))"
   ]
  },
  {
   "cell_type": "code",
   "execution_count": null,
   "metadata": {},
   "outputs": [],
   "source": [
    "crosstab_income_residency(trips.filter(from_ti_filter))"
   ]
  },
  {
   "cell_type": "code",
   "execution_count": null,
   "metadata": {},
   "outputs": [],
   "source": [
    "crosstab_income_residency(\n",
    "    trips.filter(~from_ti_filter & to_ti_filter & ~daytime_filter))"
   ]
  },
  {
   "cell_type": "code",
   "execution_count": null,
   "metadata": {},
   "outputs": [],
   "source": [
    "crosstab_income_residency(\n",
    "    trips.filter(from_ti_filter & ~to_ti_filter & ~daytime_filter))"
   ]
  },
  {
   "cell_type": "code",
   "execution_count": null,
   "metadata": {},
   "outputs": [],
   "source": [
    "crosstab_income_residency(\n",
    "    trips.filter(ti_trips_exc_intra_ti_filter & ~daytime_filter))"
   ]
  },
  {
   "cell_type": "code",
   "execution_count": null,
   "metadata": {},
   "outputs": [],
   "source": [
    "crosstab_income_residency(\n",
    "    trips.filter(ti_trips_inc_intra_ti_filter & ~daytime_filter))"
   ]
  },
  {
   "cell_type": "code",
   "execution_count": null,
   "metadata": {},
   "outputs": [],
   "source": [
    "(crosstab_income_residency(trips.filter(\n",
    "    ti_trips_exc_intra_ti_filter & daytime_filter &\n",
    "    (pl.col(\"trip_mode\") == \"auto-DA\")\n",
    ")) + crosstab_income_residency(trips.filter(\n",
    "    ti_trips_exc_intra_ti_filter &  daytime_filter &\n",
    "    (pl.col(\"trip_mode\") == \"auto-SR2\")\n",
    ")) / 2 + crosstab_income_residency(trips.filter(\n",
    "    ti_trips_exc_intra_ti_filter &  daytime_filter &\n",
    "    (pl.col(\"trip_mode\") == \"auto-SR3\")\n",
    ")) / 3.5)"
   ]
  }
 ],
 "metadata": {
  "kernelspec": {
   "display_name": "Python 3 (ipykernel)",
   "language": "python",
   "name": "python3"
  },
  "language_info": {
   "codemirror_mode": {
    "name": "ipython",
    "version": 3
   },
   "file_extension": ".py",
   "mimetype": "text/x-python",
   "name": "python",
   "nbconvert_exporter": "python",
   "pygments_lexer": "ipython3",
   "version": "3.11.4"
  }
 },
 "nbformat": 4,
 "nbformat_minor": 4
}
