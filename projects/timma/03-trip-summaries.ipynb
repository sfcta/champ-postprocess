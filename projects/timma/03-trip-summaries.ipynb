{
 "cells": [
  {
   "cell_type": "code",
   "execution_count": null,
   "metadata": {},
   "outputs": [],
   "source": [
    "from pathlib import Path\n",
    "\n",
    "import matplotlib.pyplot as plt\n",
    "import polars as pl\n",
    "import seaborn as sns"
   ]
  },
  {
   "cell_type": "code",
   "execution_count": null,
   "metadata": {},
   "outputs": [],
   "source": [
    "dir = r\"X:\\Projects\\TIMMA\\Round7\\Round7_2040_weekday_ubi_currentandlowincomeresidents\"\n",
    "trips_joined_filename = \"TRIPMC1-simplified.parquet\"\n",
    "trips_joined_filepath = Path(dir, \"summaries\", trips_joined_filename)"
   ]
  },
  {
   "cell_type": "code",
   "execution_count": null,
   "metadata": {},
   "outputs": [],
   "source": [
    "trips = pl.read_parquet(trips_joined_filepath).with_columns(\n",
    "    # I don't want to deal with trying to order a Categorical right now\n",
    "    pl.col(\"income_quintile\").cast(pl.Utf8).cast(pl.Int8),\n",
    "    # casting to str from Categorical to allow is_in()\n",
    "    pl.col(\"trip_mode\").cast(pl.Utf8)\n",
    ")"
   ]
  },
  {
   "cell_type": "code",
   "execution_count": null,
   "metadata": {},
   "outputs": [],
   "source": [
    "def filter_group_count(trips, filter, by, title=True):\n",
    "    summary_df = trips.filter(filter).group_by(by).count()\n",
    "    plot = sns.barplot(\n",
    "        data=summary_df.to_pandas(),\n",
    "        x=by,\n",
    "        y=\"count\",\n",
    "    )\n",
    "    if title:\n",
    "        plot = plot.set_title(f\"filter: {filter}\\ngroupby: {by}\")\n",
    "    return (summary_df, plot)"
   ]
  },
  {
   "cell_type": "code",
   "execution_count": null,
   "metadata": {},
   "outputs": [],
   "source": [
    "filter = (pl.col(\"origin\") == \"TI\")\n",
    "summary_df, plot = filter_group_count(trips, filter, \"income_quintile\")\n",
    "display(summary_df)\n",
    "plot\n",
    "plt.show()"
   ]
  },
  {
   "cell_type": "code",
   "execution_count": null,
   "metadata": {},
   "outputs": [],
   "source": [
    "filter = ((pl.col(\"origin\") != \"TI\") & (pl.col(\"destination\") == \"TI\"))\n",
    "summary_df, plot = filter_group_count(trips, filter, \"income_quintile\")\n",
    "display(summary_df)\n",
    "plot\n",
    "plt.show()"
   ]
  },
  {
   "cell_type": "code",
   "execution_count": null,
   "metadata": {},
   "outputs": [],
   "source": [
    "ti_trips_inc_intra_ti_filter = (pl.col(\"origin\") == \"TI\") | (\n",
    "    pl.col(\"destination\") == \"TI\"\n",
    ")\n",
    "ti_trips_exc_intra_ti_filter = (pl.col(\"origin\") == \"TI\") ^ (\n",
    "    pl.col(\"destination\") == \"TI\"\n",
    ")  # XOR"
   ]
  },
  {
   "cell_type": "code",
   "execution_count": null,
   "metadata": {},
   "outputs": [],
   "source": [
    "summary_df, plot = filter_group_count(trips, ti_trips_inc_intra_ti_filter, \"purpose\")\n",
    "display(summary_df)\n",
    "plot\n",
    "plt.show()"
   ]
  },
  {
   "cell_type": "code",
   "execution_count": null,
   "metadata": {},
   "outputs": [],
   "source": [
    "summary_df, plot = filter_group_count(\n",
    "    trips,\n",
    "    ti_trips_inc_intra_ti_filter,\n",
    "    \"trip_mode\"\n",
    ")\n",
    "display(summary_df)\n",
    "plot\n",
    "plt.show()"
   ]
  },
  {
   "cell_type": "code",
   "execution_count": null,
   "metadata": {},
   "outputs": [],
   "source": [
    "summary_df, plot = filter_group_count(\n",
    "    trips,\n",
    "    ti_trips_exc_intra_ti_filter,\n",
    "    \"trip_mode\"\n",
    ")\n",
    "display(summary_df)\n",
    "plot\n",
    "plt.show()"
   ]
  },
  {
   "cell_type": "code",
   "execution_count": null,
   "metadata": {},
   "outputs": [],
   "source": [
    "filter = ti_trips_exc_intra_ti_filter & (\n",
    "    pl.col(\"trip_mode\").is_in([\"auto-DA\", \"auto-SR2\", \"auto-SR3\"])\n",
    ")\n",
    "summary_df, plot = filter_group_count(trips, filter, \"purpose\")\n",
    "display(summary_df)\n",
    "plot\n",
    "plt.show()"
   ]
  },
  {
   "cell_type": "code",
   "execution_count": null,
   "metadata": {},
   "outputs": [],
   "source": [
    "filter = ti_trips_exc_intra_ti_filter & (pl.col(\"trip_mode\") == \"transit\")\n",
    "summary_df, plot = filter_group_count(trips, filter, \"residency\")\n",
    "display(summary_df)\n",
    "plot\n",
    "plt.show()"
   ]
  },
  {
   "cell_type": "code",
   "execution_count": null,
   "metadata": {},
   "outputs": [],
   "source": [
    "sns.heatmap(\n",
    "    trips.filter(ti_trips_exc_intra_ti_filter)\n",
    "    .group_by([\"trip_mode\", \"income_quintile\"])\n",
    "    .count()\n",
    "    .to_pandas()\n",
    "    .pivot(values=\"count\", index=\"trip_mode\", columns=\"income_quintile\")\n",
    ")\n",
    "plt.show()"
   ]
  }
 ],
 "metadata": {
  "kernelspec": {
   "display_name": "Python 3 (ipykernel)",
   "language": "python",
   "name": "python3"
  },
  "language_info": {
   "codemirror_mode": {
    "name": "ipython",
    "version": 3
   },
   "file_extension": ".py",
   "mimetype": "text/x-python",
   "name": "python",
   "nbconvert_exporter": "python",
   "pygments_lexer": "ipython3",
   "version": "3.11.4"
  }
 },
 "nbformat": 4,
 "nbformat_minor": 4
}
