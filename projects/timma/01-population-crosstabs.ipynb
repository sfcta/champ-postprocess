{
 "cells": [
  {
   "cell_type": "code",
   "execution_count": null,
   "id": "b7e82fba-a5a1-4c3f-ac82-15d5fb9f0a48",
   "metadata": {},
   "outputs": [],
   "source": [
    "\"\"\"Synthetic population descriptive statistics for CHAMP trip summaries for TIMMA\n",
    "\n",
    "Parses output from CHAMP version: CHAMP 5.2.0-Toll_Quintile\n",
    "\"\"\"\n",
    "%load_ext autoreload"
   ]
  },
  {
   "cell_type": "code",
   "execution_count": null,
   "id": "1af888be-f7cf-4505-ad7b-fce4d413f185",
   "metadata": {},
   "outputs": [],
   "source": [
    "%autoreload\n",
    "import polars as pl\n",
    "\n",
    "from timma import load_population, crosstab_income_residency"
   ]
  },
  {
   "cell_type": "code",
   "execution_count": null,
   "id": "d5b909e6-5cb7-45f4-a983-46fdabfe78b3",
   "metadata": {},
   "outputs": [],
   "source": [
    "dir = r\"X:\\Projects\\TIMMA\\Round7\\Round7_2040_weekday_ubi_currentandlowincomeresidents\"\n",
    "population = load_population(dir).select((\"hhid\", \"persid\", \"income_quintile\", \"residency\"))"
   ]
  },
  {
   "cell_type": "code",
   "execution_count": null,
   "id": "33617ea8-b2e1-41c7-8371-c129fdaf4923",
   "metadata": {},
   "outputs": [],
   "source": [
    "population = population.with_columns(\n",
    "    # I don't want to deal with trying to order a Categorical right now\n",
    "    pl.col(\"income_quintile\").cast(pl.Utf8).cast(pl.Int8),\n",
    ")"
   ]
  },
  {
   "cell_type": "code",
   "execution_count": null,
   "id": "5bb9818d-9ee5-4a58-86af-3eede2e78a66",
   "metadata": {},
   "outputs": [],
   "source": [
    "# check that the income_quintile and residency is consistent within a household\n",
    "# groupby hhid, see how many income_quintile & residency is within each household\n",
    "# (at this point, if we select the persid column, that would give the number of people in the household)\n",
    "# then take unique to make sure there's always only 1 income_quintile & residency within each household\n",
    "population.group_by(\"hhid\").n_unique().select(\"income_quintile\", \"residency\").unique()"
   ]
  },
  {
   "cell_type": "code",
   "execution_count": null,
   "id": "9128a684-ddae-403d-b28f-02fc0a4b8ab3",
   "metadata": {},
   "outputs": [],
   "source": [
    "persons = population.select([\"persid\", \"income_quintile\", \"residency\"])\n",
    "households = population.select([\"hhid\", \"income_quintile\", \"residency\"]).group_by(\"hhid\").first()"
   ]
  },
  {
   "cell_type": "code",
   "execution_count": null,
   "id": "bc43f557-efe7-465c-999c-99fd1f1f4a06",
   "metadata": {},
   "outputs": [],
   "source": [
    "crosstab_income_residency(households)"
   ]
  },
  {
   "cell_type": "code",
   "execution_count": null,
   "id": "507c1f41-c298-4528-8ab8-8669f39dcd2a",
   "metadata": {},
   "outputs": [],
   "source": [
    "crosstab_income_residency(persons)"
   ]
  }
 ],
 "metadata": {
  "kernelspec": {
   "display_name": "Python 3 (ipykernel)",
   "language": "python",
   "name": "python3"
  },
  "language_info": {
   "codemirror_mode": {
    "name": "ipython",
    "version": 3
   },
   "file_extension": ".py",
   "mimetype": "text/x-python",
   "name": "python",
   "nbconvert_exporter": "python",
   "pygments_lexer": "ipython3",
   "version": "3.11.4"
  }
 },
 "nbformat": 4,
 "nbformat_minor": 5
}
